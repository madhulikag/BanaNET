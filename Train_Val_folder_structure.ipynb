{
  "nbformat": 4,
  "nbformat_minor": 0,
  "metadata": {
    "colab": {
      "provenance": [],
      "authorship_tag": "ABX9TyOdF7/vD+xIc6Y9v5kfFs6P",
      "include_colab_link": true
    },
    "kernelspec": {
      "name": "python3",
      "display_name": "Python 3"
    },
    "language_info": {
      "name": "python"
    }
  },
  "cells": [
    {
      "cell_type": "markdown",
      "metadata": {
        "id": "view-in-github",
        "colab_type": "text"
      },
      "source": [
        "<a href=\"https://colab.research.google.com/github/madhulikag/BanaNET/blob/main/Train_Val_folder_structure.ipynb\" target=\"_parent\"><img src=\"https://colab.research.google.com/assets/colab-badge.svg\" alt=\"Open In Colab\"/></a>"
      ]
    },
    {
      "cell_type": "code",
      "execution_count": null,
      "metadata": {
        "id": "gM_ZrhgdlaPH"
      },
      "outputs": [],
      "source": [
        "import os\n",
        "import shutil\n",
        "import random\n",
        "from tqdm import tqdm"
      ]
    },
    {
      "cell_type": "code",
      "source": [
        "from google.colab import drive\n",
        "drive.mount('/content/drive')"
      ],
      "metadata": {
        "colab": {
          "base_uri": "https://localhost:8080/"
        },
        "id": "bIjVSkRmqY_F",
        "outputId": "e7d9a059-21b0-4540-8046-47000da64085"
      },
      "execution_count": null,
      "outputs": [
        {
          "output_type": "stream",
          "name": "stdout",
          "text": [
            "Mounted at /content/drive\n"
          ]
        }
      ]
    },
    {
      "cell_type": "code",
      "source": [
        "random.seed(42)\n",
        "\n",
        "source_root = '/content/drive/MyDrive/Banana_leaf'\n",
        "output_root = '/content/drive/MyDrive/Banana_leaf_split'   # will create train/ and val/ folders here\n",
        "\n",
        "# split ratio\n",
        "val_ratio = 0.2\n",
        "\n",
        "# train/val folder structure\n",
        "for split in ['train', 'val']:\n",
        "    for class_name in os.listdir(source_root):\n",
        "        os.makedirs(os.path.join(output_root, split, class_name), exist_ok=True)\n",
        "\n",
        "# Split each class folder\n",
        "for class_name in os.listdir(source_root):\n",
        "    class_path = os.path.join(source_root, class_name)\n",
        "    images = os.listdir(class_path)\n",
        "    random.shuffle(images)\n",
        "\n",
        "    val_count = int(len(images) * val_ratio)\n",
        "    val_images = images[:val_count]\n",
        "    train_images = images[val_count:]\n",
        "\n",
        "    # Move files\n",
        "    for img in tqdm(train_images, desc=f\"Train - {class_name}\"):\n",
        "        shutil.copy2(os.path.join(class_path, img), os.path.join(output_root, 'train', class_name, img))\n",
        "\n",
        "    for img in tqdm(val_images, desc=f\"Val - {class_name}\"):\n",
        "        shutil.copy2(os.path.join(class_path, img), os.path.join(output_root, 'val', class_name, img))"
      ],
      "metadata": {
        "colab": {
          "base_uri": "https://localhost:8080/"
        },
        "id": "XD8KpaMgqLLQ",
        "outputId": "24d956c6-43b7-4a3a-aff7-941883e300a8"
      },
      "execution_count": null,
      "outputs": [
        {
          "output_type": "stream",
          "name": "stderr",
          "text": [
            "Train - potassium: 100%|██████████| 673/673 [00:35<00:00, 19.20it/s]\n",
            "Val - potassium: 100%|██████████| 168/168 [00:02<00:00, 63.46it/s]\n",
            "Train - magnesium: 100%|██████████| 640/640 [00:20<00:00, 30.66it/s]\n",
            "Val - magnesium: 100%|██████████| 160/160 [00:02<00:00, 58.71it/s]\n",
            "Train - sulphur: 100%|██████████| 584/584 [00:18<00:00, 31.08it/s]\n",
            "Val - sulphur: 100%|██████████| 146/146 [00:02<00:00, 65.74it/s]\n",
            "Train - healthy: 100%|██████████| 760/760 [00:26<00:00, 29.09it/s]\n",
            "Val - healthy: 100%|██████████| 190/190 [00:03<00:00, 59.81it/s]\n"
          ]
        }
      ]
    }
  ]
}